{
 "cells": [
  {
   "cell_type": "raw",
   "metadata": {},
   "source": [
    "---\n",
    "title: Movie Recommender with implicit feedback\n",
    "authors:\n",
    "- Florian Matthies \n",
    "tags:\n",
    "- implicit\n",
    "- feedback\n",
    "- recommender\n",
    "- bpr\n",
    "- Bayesian Personalized Ranking\n",
    "- MovieLens\n",
    "- csr_matrix\n",
    "created_at: 2019-01-09\n",
    "updated_at: 2019-01-09\n",
    "tldr: Movie Recommender with implicit feedback using the \"implicit\" package and Bayesian-Personalized-Ranking algorithm with MovieLens 100k dataset\n",
    "---"
   ]
  },
  {
   "cell_type": "markdown",
   "metadata": {},
   "source": [
    "# **Movie Recommender with implicit feedback**\n",
    "\n",
    "## using the \"implicit\" package and Bayesian-Personalized-Ranking algorithm with MovieLens 100k dataset"
   ]
  },
  {
   "cell_type": "code",
   "execution_count": 1,
   "metadata": {},
   "outputs": [],
   "source": [
    "import pandas as pd\n",
    "import numpy as np\n",
    "import implicit\n",
    "from scipy.sparse import coo_matrix, csr_matrix"
   ]
  },
  {
   "cell_type": "markdown",
   "metadata": {},
   "source": [
    "### Load dataset from .csv (MovieLens 100k)\n",
    "\n",
    "Download data from: https://www.kaggle.com/rajmehra03/movielens100k"
   ]
  },
  {
   "cell_type": "code",
   "execution_count": 2,
   "metadata": {},
   "outputs": [
    {
     "data": {
      "text/html": [
       "<div>\n",
       "<style scoped>\n",
       "    .dataframe tbody tr th:only-of-type {\n",
       "        vertical-align: middle;\n",
       "    }\n",
       "\n",
       "    .dataframe tbody tr th {\n",
       "        vertical-align: top;\n",
       "    }\n",
       "\n",
       "    .dataframe thead th {\n",
       "        text-align: right;\n",
       "    }\n",
       "</style>\n",
       "<table border=\"1\" class=\"dataframe\">\n",
       "  <thead>\n",
       "    <tr style=\"text-align: right;\">\n",
       "      <th></th>\n",
       "      <th>userId</th>\n",
       "      <th>movieId</th>\n",
       "      <th>rating</th>\n",
       "      <th>timestamp</th>\n",
       "    </tr>\n",
       "  </thead>\n",
       "  <tbody>\n",
       "    <tr>\n",
       "      <th>0</th>\n",
       "      <td>1</td>\n",
       "      <td>31</td>\n",
       "      <td>2.5</td>\n",
       "      <td>1260759144</td>\n",
       "    </tr>\n",
       "    <tr>\n",
       "      <th>1</th>\n",
       "      <td>1</td>\n",
       "      <td>1029</td>\n",
       "      <td>3.0</td>\n",
       "      <td>1260759179</td>\n",
       "    </tr>\n",
       "    <tr>\n",
       "      <th>2</th>\n",
       "      <td>1</td>\n",
       "      <td>1061</td>\n",
       "      <td>3.0</td>\n",
       "      <td>1260759182</td>\n",
       "    </tr>\n",
       "    <tr>\n",
       "      <th>3</th>\n",
       "      <td>1</td>\n",
       "      <td>1129</td>\n",
       "      <td>2.0</td>\n",
       "      <td>1260759185</td>\n",
       "    </tr>\n",
       "    <tr>\n",
       "      <th>4</th>\n",
       "      <td>1</td>\n",
       "      <td>1172</td>\n",
       "      <td>4.0</td>\n",
       "      <td>1260759205</td>\n",
       "    </tr>\n",
       "  </tbody>\n",
       "</table>\n",
       "</div>"
      ],
      "text/plain": [
       "   userId  movieId  rating   timestamp\n",
       "0       1       31     2.5  1260759144\n",
       "1       1     1029     3.0  1260759179\n",
       "2       1     1061     3.0  1260759182\n",
       "3       1     1129     2.0  1260759185\n",
       "4       1     1172     4.0  1260759205"
      ]
     },
     "execution_count": 2,
     "metadata": {},
     "output_type": "execute_result"
    }
   ],
   "source": [
    "df_ratings = pd.read_csv(\"data/ratings.csv\", sep = \",\")\n",
    "df_ratings.head()"
   ]
  },
  {
   "cell_type": "code",
   "execution_count": 3,
   "metadata": {},
   "outputs": [
    {
     "data": {
      "text/html": [
       "<div>\n",
       "<style scoped>\n",
       "    .dataframe tbody tr th:only-of-type {\n",
       "        vertical-align: middle;\n",
       "    }\n",
       "\n",
       "    .dataframe tbody tr th {\n",
       "        vertical-align: top;\n",
       "    }\n",
       "\n",
       "    .dataframe thead th {\n",
       "        text-align: right;\n",
       "    }\n",
       "</style>\n",
       "<table border=\"1\" class=\"dataframe\">\n",
       "  <thead>\n",
       "    <tr style=\"text-align: right;\">\n",
       "      <th></th>\n",
       "      <th>movieId</th>\n",
       "      <th>title</th>\n",
       "      <th>genres</th>\n",
       "    </tr>\n",
       "  </thead>\n",
       "  <tbody>\n",
       "    <tr>\n",
       "      <th>0</th>\n",
       "      <td>1</td>\n",
       "      <td>Toy Story (1995)</td>\n",
       "      <td>Adventure|Animation|Children|Comedy|Fantasy</td>\n",
       "    </tr>\n",
       "    <tr>\n",
       "      <th>1</th>\n",
       "      <td>2</td>\n",
       "      <td>Jumanji (1995)</td>\n",
       "      <td>Adventure|Children|Fantasy</td>\n",
       "    </tr>\n",
       "    <tr>\n",
       "      <th>2</th>\n",
       "      <td>3</td>\n",
       "      <td>Grumpier Old Men (1995)</td>\n",
       "      <td>Comedy|Romance</td>\n",
       "    </tr>\n",
       "    <tr>\n",
       "      <th>3</th>\n",
       "      <td>4</td>\n",
       "      <td>Waiting to Exhale (1995)</td>\n",
       "      <td>Comedy|Drama|Romance</td>\n",
       "    </tr>\n",
       "    <tr>\n",
       "      <th>4</th>\n",
       "      <td>5</td>\n",
       "      <td>Father of the Bride Part II (1995)</td>\n",
       "      <td>Comedy</td>\n",
       "    </tr>\n",
       "  </tbody>\n",
       "</table>\n",
       "</div>"
      ],
      "text/plain": [
       "   movieId                               title  \\\n",
       "0        1                    Toy Story (1995)   \n",
       "1        2                      Jumanji (1995)   \n",
       "2        3             Grumpier Old Men (1995)   \n",
       "3        4            Waiting to Exhale (1995)   \n",
       "4        5  Father of the Bride Part II (1995)   \n",
       "\n",
       "                                        genres  \n",
       "0  Adventure|Animation|Children|Comedy|Fantasy  \n",
       "1                   Adventure|Children|Fantasy  \n",
       "2                               Comedy|Romance  \n",
       "3                         Comedy|Drama|Romance  \n",
       "4                                       Comedy  "
      ]
     },
     "execution_count": 3,
     "metadata": {},
     "output_type": "execute_result"
    }
   ],
   "source": [
    "df_movies = pd.read_csv(\"data/movies.csv\", sep = \",\")\n",
    "df_movies.head()"
   ]
  },
  {
   "cell_type": "code",
   "execution_count": 4,
   "metadata": {},
   "outputs": [
    {
     "data": {
      "text/plain": [
       "array(['Toy Story (1995)', 'Jumanji (1995)', 'Grumpier Old Men (1995)',\n",
       "       ..., 'The Beatles: Eight Days a Week - The Touring Years (2016)',\n",
       "       'The Gay Desperado (1936)', \"Women of '69, Unboxed\"], dtype=object)"
      ]
     },
     "execution_count": 4,
     "metadata": {},
     "output_type": "execute_result"
    }
   ],
   "source": [
    "# get an array with all titles\n",
    "titles = np.array(df_movies['title'])\n",
    "titles"
   ]
  },
  {
   "cell_type": "markdown",
   "metadata": {},
   "source": [
    "# Create a sparse matrix from rating data"
   ]
  },
  {
   "cell_type": "code",
   "execution_count": 5,
   "metadata": {},
   "outputs": [],
   "source": [
    "# remove timestamp column and reorder columns\n",
    "df_ratings.drop(axis= 1, labels= \"timestamp\",inplace= True)\n",
    "df_ratings = df_ratings[df_ratings.movieId < len(titles)]\n",
    "df_ratings = df_ratings[[\"movieId\",\"userId\",\"rating\"]]"
   ]
  },
  {
   "cell_type": "code",
   "execution_count": 6,
   "metadata": {},
   "outputs": [
    {
     "data": {
      "text/plain": [
       "<9019x672 sparse matrix of type '<class 'numpy.float64'>'\n",
       "\twith 84739 stored elements in Compressed Sparse Row format>"
      ]
     },
     "execution_count": 6,
     "metadata": {},
     "output_type": "execute_result"
    }
   ],
   "source": [
    "# create a sparse matrix with rows => movieId, column => userId and elements in matrix => rating\n",
    "row = np.array(df_ratings.movieId)\n",
    "col = np.array(df_ratings.userId)\n",
    "data = np.array(df_ratings.rating)\n",
    "\n",
    "ratings = csr_matrix((data, (row, col)))\n",
    "ratings"
   ]
  },
  {
   "cell_type": "code",
   "execution_count": 7,
   "metadata": {},
   "outputs": [
    {
     "data": {
      "text/plain": [
       "<9019x672 sparse matrix of type '<class 'numpy.float64'>'\n",
       "\twith 84739 stored elements in Compressed Sparse Row format>"
      ]
     },
     "execution_count": 7,
     "metadata": {},
     "output_type": "execute_result"
    }
   ],
   "source": [
    "# All ratings under 4 stars are 0 (only 4 and 5 is positive feedback)\n",
    "ratings.data[ratings.data < 4] = 0\n",
    "ratings"
   ]
  },
  {
   "cell_type": "code",
   "execution_count": 8,
   "metadata": {},
   "outputs": [
    {
     "data": {
      "text/plain": [
       "array([4., 5., 5., ..., 5., 4., 5.])"
      ]
     },
     "execution_count": 8,
     "metadata": {},
     "output_type": "execute_result"
    }
   ],
   "source": [
    "# remove entries with zero value\n",
    "ratings.eliminate_zeros()\n",
    "ratings.data"
   ]
  },
  {
   "cell_type": "code",
   "execution_count": 9,
   "metadata": {},
   "outputs": [
    {
     "data": {
      "text/plain": [
       "array([1., 1., 1., ..., 1., 1., 1.])"
      ]
     },
     "execution_count": 9,
     "metadata": {},
     "output_type": "execute_result"
    }
   ],
   "source": [
    "# make all 4 or 5 values to 1\n",
    "ratings.data = np.ones(len(ratings.data))\n",
    "ratings.data"
   ]
  },
  {
   "cell_type": "markdown",
   "metadata": {},
   "source": [
    "# Train BPR Model"
   ]
  },
  {
   "cell_type": "code",
   "execution_count": 10,
   "metadata": {},
   "outputs": [
    {
     "name": "stderr",
     "output_type": "stream",
     "text": [
      "100%|██████████| 100/100 [00:00<00:00, 110.84it/s, correct=91.07%, skipped=17.84%]\n"
     ]
    }
   ],
   "source": [
    "model = implicit.bpr.BayesianPersonalizedRanking()\n",
    "model.fit(ratings)"
   ]
  },
  {
   "cell_type": "markdown",
   "metadata": {},
   "source": [
    "# Find similiar movies"
   ]
  },
  {
   "cell_type": "code",
   "execution_count": 11,
   "metadata": {},
   "outputs": [
    {
     "data": {
      "text/plain": [
       "array([  0, 159,  41, ...,   0,   0,   1], dtype=int32)"
      ]
     },
     "execution_count": 11,
     "metadata": {},
     "output_type": "execute_result"
    }
   ],
   "source": [
    "tosort = np.arange(len(titles))\n",
    "user_count = np.ediff1d(ratings.indptr)\n",
    "user_count"
   ]
  },
  {
   "cell_type": "code",
   "execution_count": 12,
   "metadata": {},
   "outputs": [
    {
     "data": {
      "text/plain": [
       "[318, 296, 356, 593, 260, 527, 2571, 1196, 608, 2858]"
      ]
     },
     "execution_count": 12,
     "metadata": {},
     "output_type": "execute_result"
    }
   ],
   "source": [
    "tosort = np.arange(len(titles))\n",
    "user_count = np.ediff1d(ratings.indptr)\n",
    "\n",
    "to_generate = sorted(tosort[0:(len(user_count)-1)], key=lambda x: -user_count[x])\n",
    "to_generate[0:10]"
   ]
  },
  {
   "cell_type": "code",
   "execution_count": 13,
   "metadata": {},
   "outputs": [],
   "source": [
    "l_similiar_items = []\n",
    "\n",
    "for movieid in to_generate:\n",
    "    # if this movie has no ratings, skip over (for instance 'Graffiti Bridge' has\n",
    "    # no ratings > 4 meaning we've filtered out all data for it.\n",
    "    if ratings.indptr[movieid] != ratings.indptr[movieid + 1]:\n",
    "        title = titles[movieid]\n",
    "        for other, score in model.similar_items(movieid, 3):\n",
    "            #print(movieid, \"\\t \",title, \" - \", titles[other], \" - \", score)\n",
    "            l_similiar_items.append([movieid,title,titles[other],score])"
   ]
  },
  {
   "cell_type": "code",
   "execution_count": 14,
   "metadata": {},
   "outputs": [
    {
     "data": {
      "text/plain": [
       "[[318, 'Crow, The (1994)', 'Crow, The (1994)', 2.882679],\n",
       " [318, 'Crow, The (1994)', 'Red Rock West (1992)', 2.1094866],\n",
       " [318,\n",
       "  'Crow, The (1994)',\n",
       "  'Scream of Stone (Cerro Torre: Schrei aus Stein) (1991)',\n",
       "  1.8931646],\n",
       " [296, 'Tom & Viv (1994)', 'Tom & Viv (1994)', 2.9374273],\n",
       " [296, 'Tom & Viv (1994)', 'When Night Is Falling (1995)', 2.3656325],\n",
       " [296, 'Tom & Viv (1994)', 'Lamerica (1994)', 2.2914941],\n",
       " [356, 'Mirage (1995)', 'Mirage (1995)', 2.72784],\n",
       " [356, 'Mirage (1995)', 'Batman (1989)', 1.6823716],\n",
       " [356,\n",
       "  'Mirage (1995)',\n",
       "  'Mrs. Parker and the Vicious Circle (1994)',\n",
       "  1.6592661],\n",
       " [593, 'Angus (1995)', 'Angus (1995)', 2.5134737],\n",
       " [593, 'Angus (1995)', 'Tom & Viv (1994)', 1.9215567],\n",
       " [593, 'Angus (1995)', 'When Night Is Falling (1995)', 1.8807013]]"
      ]
     },
     "execution_count": 14,
     "metadata": {},
     "output_type": "execute_result"
    }
   ],
   "source": [
    "l_similiar_items[0:12]"
   ]
  },
  {
   "cell_type": "code",
   "execution_count": 15,
   "metadata": {},
   "outputs": [
    {
     "name": "stdout",
     "output_type": "stream",
     "text": [
      "[1, 'Jumanji (1995)', 'Jumanji (1995)', 2.6192956]\n",
      "[1, 'Jumanji (1995)', 'Crime and Punishment in Suburbia (2000)', 1.8780766]\n",
      "[1, 'Jumanji (1995)', '2001: A Space Odyssey (1968)', 1.6143974]\n"
     ]
    }
   ],
   "source": [
    "# Search for specific movies\n",
    "for entry in l_similiar_items:\n",
    "    if \"Juman\" in entry[1]:\n",
    "        print(entry)"
   ]
  },
  {
   "cell_type": "markdown",
   "metadata": {},
   "source": [
    "# Find similiar users"
   ]
  },
  {
   "cell_type": "code",
   "execution_count": 16,
   "metadata": {},
   "outputs": [
    {
     "data": {
      "text/plain": [
       "array([ 1,  2,  3,  4,  5,  6,  7,  8,  9, 10], dtype=int64)"
      ]
     },
     "execution_count": 16,
     "metadata": {},
     "output_type": "execute_result"
    }
   ],
   "source": [
    "l_users = np.unique(df_ratings.userId)\n",
    "l_users[0:10]"
   ]
  },
  {
   "cell_type": "code",
   "execution_count": 17,
   "metadata": {},
   "outputs": [],
   "source": [
    "l_similar_users = []\n",
    "\n",
    "for user in l_users:\n",
    "        for other, score in model.similar_users(user, 3):\n",
    "            l_similar_users.append([user,other,score])"
   ]
  },
  {
   "cell_type": "code",
   "execution_count": 18,
   "metadata": {},
   "outputs": [
    {
     "data": {
      "text/html": [
       "<div>\n",
       "<style scoped>\n",
       "    .dataframe tbody tr th:only-of-type {\n",
       "        vertical-align: middle;\n",
       "    }\n",
       "\n",
       "    .dataframe tbody tr th {\n",
       "        vertical-align: top;\n",
       "    }\n",
       "\n",
       "    .dataframe thead th {\n",
       "        text-align: right;\n",
       "    }\n",
       "</style>\n",
       "<table border=\"1\" class=\"dataframe\">\n",
       "  <thead>\n",
       "    <tr style=\"text-align: right;\">\n",
       "      <th></th>\n",
       "      <th>userId</th>\n",
       "      <th>similar_userId</th>\n",
       "      <th>score</th>\n",
       "    </tr>\n",
       "  </thead>\n",
       "  <tbody>\n",
       "    <tr>\n",
       "      <th>0</th>\n",
       "      <td>1</td>\n",
       "      <td>1</td>\n",
       "      <td>1.182443</td>\n",
       "    </tr>\n",
       "    <tr>\n",
       "      <th>1</th>\n",
       "      <td>1</td>\n",
       "      <td>581</td>\n",
       "      <td>1.069442</td>\n",
       "    </tr>\n",
       "    <tr>\n",
       "      <th>2</th>\n",
       "      <td>1</td>\n",
       "      <td>549</td>\n",
       "      <td>1.068702</td>\n",
       "    </tr>\n",
       "    <tr>\n",
       "      <th>3</th>\n",
       "      <td>2</td>\n",
       "      <td>2</td>\n",
       "      <td>2.417160</td>\n",
       "    </tr>\n",
       "    <tr>\n",
       "      <th>4</th>\n",
       "      <td>2</td>\n",
       "      <td>354</td>\n",
       "      <td>2.370593</td>\n",
       "    </tr>\n",
       "    <tr>\n",
       "      <th>5</th>\n",
       "      <td>2</td>\n",
       "      <td>121</td>\n",
       "      <td>2.364691</td>\n",
       "    </tr>\n",
       "    <tr>\n",
       "      <th>6</th>\n",
       "      <td>3</td>\n",
       "      <td>3</td>\n",
       "      <td>1.420081</td>\n",
       "    </tr>\n",
       "    <tr>\n",
       "      <th>7</th>\n",
       "      <td>3</td>\n",
       "      <td>353</td>\n",
       "      <td>1.245931</td>\n",
       "    </tr>\n",
       "    <tr>\n",
       "      <th>8</th>\n",
       "      <td>3</td>\n",
       "      <td>29</td>\n",
       "      <td>1.245247</td>\n",
       "    </tr>\n",
       "    <tr>\n",
       "      <th>9</th>\n",
       "      <td>4</td>\n",
       "      <td>4</td>\n",
       "      <td>3.446882</td>\n",
       "    </tr>\n",
       "    <tr>\n",
       "      <th>10</th>\n",
       "      <td>4</td>\n",
       "      <td>137</td>\n",
       "      <td>2.801570</td>\n",
       "    </tr>\n",
       "    <tr>\n",
       "      <th>11</th>\n",
       "      <td>4</td>\n",
       "      <td>518</td>\n",
       "      <td>2.700609</td>\n",
       "    </tr>\n",
       "    <tr>\n",
       "      <th>12</th>\n",
       "      <td>5</td>\n",
       "      <td>5</td>\n",
       "      <td>2.656199</td>\n",
       "    </tr>\n",
       "    <tr>\n",
       "      <th>13</th>\n",
       "      <td>5</td>\n",
       "      <td>69</td>\n",
       "      <td>2.403976</td>\n",
       "    </tr>\n",
       "    <tr>\n",
       "      <th>14</th>\n",
       "      <td>5</td>\n",
       "      <td>500</td>\n",
       "      <td>2.236112</td>\n",
       "    </tr>\n",
       "    <tr>\n",
       "      <th>15</th>\n",
       "      <td>6</td>\n",
       "      <td>6</td>\n",
       "      <td>1.841972</td>\n",
       "    </tr>\n",
       "    <tr>\n",
       "      <th>16</th>\n",
       "      <td>6</td>\n",
       "      <td>257</td>\n",
       "      <td>1.595245</td>\n",
       "    </tr>\n",
       "    <tr>\n",
       "      <th>17</th>\n",
       "      <td>6</td>\n",
       "      <td>218</td>\n",
       "      <td>1.571708</td>\n",
       "    </tr>\n",
       "    <tr>\n",
       "      <th>18</th>\n",
       "      <td>7</td>\n",
       "      <td>7</td>\n",
       "      <td>2.408158</td>\n",
       "    </tr>\n",
       "    <tr>\n",
       "      <th>19</th>\n",
       "      <td>7</td>\n",
       "      <td>603</td>\n",
       "      <td>2.078012</td>\n",
       "    </tr>\n",
       "  </tbody>\n",
       "</table>\n",
       "</div>"
      ],
      "text/plain": [
       "    userId  similar_userId     score\n",
       "0        1               1  1.182443\n",
       "1        1             581  1.069442\n",
       "2        1             549  1.068702\n",
       "3        2               2  2.417160\n",
       "4        2             354  2.370593\n",
       "5        2             121  2.364691\n",
       "6        3               3  1.420081\n",
       "7        3             353  1.245931\n",
       "8        3              29  1.245247\n",
       "9        4               4  3.446882\n",
       "10       4             137  2.801570\n",
       "11       4             518  2.700609\n",
       "12       5               5  2.656199\n",
       "13       5              69  2.403976\n",
       "14       5             500  2.236112\n",
       "15       6               6  1.841972\n",
       "16       6             257  1.595245\n",
       "17       6             218  1.571708\n",
       "18       7               7  2.408158\n",
       "19       7             603  2.078012"
      ]
     },
     "execution_count": 18,
     "metadata": {},
     "output_type": "execute_result"
    }
   ],
   "source": [
    "pd.DataFrame(l_similar_users[0:20], columns = [\"userId\",\"similar_userId\",\"score\"])"
   ]
  },
  {
   "cell_type": "markdown",
   "metadata": {},
   "source": [
    "# **Make recommendations for users**"
   ]
  },
  {
   "cell_type": "code",
   "execution_count": 19,
   "metadata": {},
   "outputs": [
    {
     "data": {
      "text/plain": [
       "<672x9019 sparse matrix of type '<class 'numpy.float64'>'\n",
       "\twith 44339 stored elements in Compressed Sparse Row format>"
      ]
     },
     "execution_count": 19,
     "metadata": {},
     "output_type": "execute_result"
    }
   ],
   "source": [
    "user_items = ratings.T.tocsr() # transpose matrix to get user_item from item_user\n",
    "user_items"
   ]
  },
  {
   "cell_type": "code",
   "execution_count": 20,
   "metadata": {},
   "outputs": [],
   "source": [
    "dict_user_recommendations = dict()\n",
    "number_of_recommendations = 10 # number of recommendations per user\n",
    "\n",
    "# make recommendations for all users\n",
    "for user in l_users:\n",
    "    dict_user_recommendations[user] = model.recommend(user, user_items, N=number_of_recommendations, filter_already_liked_items=True, filter_items=None, recalculate_user=False)"
   ]
  },
  {
   "cell_type": "code",
   "execution_count": 21,
   "metadata": {},
   "outputs": [],
   "source": [
    "# create dictionary with UserId as key and a list of recommendations as values (with movienames)\n",
    "dict_user_recommendations_names = dict()\n",
    "\n",
    "for user in dict_user_recommendations:\n",
    "    num_recommendation = 0\n",
    "    dict_user_recommendations_names[user] = list(range(0,number_of_recommendations))\n",
    "    for recommendation in dict_user_recommendations[user]:\n",
    "        dict_user_recommendations_names[user][num_recommendation] = titles[recommendation[0]] # translate movieid to moviename\n",
    "        num_recommendation = num_recommendation + 1"
   ]
  },
  {
   "cell_type": "markdown",
   "metadata": {},
   "source": [
    "## Show example recommendations"
   ]
  },
  {
   "cell_type": "code",
   "execution_count": 22,
   "metadata": {},
   "outputs": [
    {
     "data": {
      "text/plain": [
       "['Halfmoon (Paul Bowles - Halbmond) (1995)',\n",
       " 'Swingers (1996)',\n",
       " 'Once Were Warriors (1994)',\n",
       " 'Private Parts (1997)',\n",
       " 'Daytrippers, The (1996)',\n",
       " 'Monty Python and the Holy Grail (1975)',\n",
       " 'In Search of the Castaways (1962)',\n",
       " 'Van, The (1996)',\n",
       " 'Abyss, The (1989)',\n",
       " 'Gabbeh (1996)']"
      ]
     },
     "execution_count": 22,
     "metadata": {},
     "output_type": "execute_result"
    }
   ],
   "source": [
    "dict_user_recommendations_names[1] # example entry"
   ]
  },
  {
   "cell_type": "code",
   "execution_count": 23,
   "metadata": {},
   "outputs": [
    {
     "data": {
      "text/plain": [
       "['Once Were Warriors (1994)',\n",
       " 'Halfmoon (Paul Bowles - Halbmond) (1995)',\n",
       " 'Swingers (1996)',\n",
       " 'Quest, The (1996)',\n",
       " 'Abyss, The (1989)',\n",
       " 'Goodfellas (1990)',\n",
       " 'Monty Python and the Holy Grail (1975)',\n",
       " 'People vs. Larry Flynt, The (1996)',\n",
       " 'My Own Private Idaho (1991)',\n",
       " 'Bambi (1942)']"
      ]
     },
     "execution_count": 23,
     "metadata": {},
     "output_type": "execute_result"
    }
   ],
   "source": [
    "dict_user_recommendations_names[581] # example entry (most similar user to 1)"
   ]
  },
  {
   "cell_type": "code",
   "execution_count": 24,
   "metadata": {},
   "outputs": [
    {
     "data": {
      "text/plain": [
       "['Halfmoon (Paul Bowles - Halbmond) (1995)',\n",
       " 'Tom & Viv (1994)',\n",
       " 'Anaconda (1997)',\n",
       " 'Switchback (1997)',\n",
       " 'Austin Powers: International Man of Mystery (1997)',\n",
       " 'In Search of the Castaways (1962)',\n",
       " 'Hunted, The (1995)',\n",
       " 'Lamerica (1994)',\n",
       " 'Babe (1995)',\n",
       " 'Van, The (1996)']"
      ]
     },
     "execution_count": 24,
     "metadata": {},
     "output_type": "execute_result"
    }
   ],
   "source": [
    "dict_user_recommendations_names[368] # example entry (second similar user to 1)"
   ]
  },
  {
   "cell_type": "markdown",
   "metadata": {},
   "source": [
    "### Show intersection between the recommendations for similar users"
   ]
  },
  {
   "cell_type": "code",
   "execution_count": 25,
   "metadata": {},
   "outputs": [
    {
     "name": "stdout",
     "output_type": "stream",
     "text": [
      "Same recommendations for both users:  ['Once Were Warriors (1994)', 'Abyss, The (1989)', 'Monty Python and the Holy Grail (1975)', 'Halfmoon (Paul Bowles - Halbmond) (1995)', 'Swingers (1996)']\n",
      "Number of same recommendations for both users:  5\n"
     ]
    }
   ],
   "source": [
    "def intersect(a, b):\n",
    "    return list(set(a) & set(b))\n",
    "\n",
    "intersection = (intersect(dict_user_recommendations_names[1], dict_user_recommendations_names[581])) # most similar to user 1\n",
    "print(\"Same recommendations for both users: \", intersection)\n",
    "print(\"Number of same recommendations for both users: \", len(intersection))"
   ]
  },
  {
   "cell_type": "code",
   "execution_count": 26,
   "metadata": {},
   "outputs": [
    {
     "name": "stdout",
     "output_type": "stream",
     "text": [
      "Same recommendations for both users:  ['In Search of the Castaways (1962)', 'Halfmoon (Paul Bowles - Halbmond) (1995)', 'Van, The (1996)']\n",
      "Number of same recommendations for both users:  3\n"
     ]
    }
   ],
   "source": [
    "intersection = (intersect(dict_user_recommendations_names[1], dict_user_recommendations_names[368])) # second most similar to user 1\n",
    "print(\"Same recommendations for both users: \", intersection)\n",
    "print(\"Number of same recommendations for both users: \", len(intersection))"
   ]
  },
  {
   "cell_type": "code",
   "execution_count": null,
   "metadata": {},
   "outputs": [],
   "source": []
  },
  {
   "cell_type": "code",
   "execution_count": null,
   "metadata": {},
   "outputs": [],
   "source": []
  },
  {
   "cell_type": "code",
   "execution_count": 27,
   "metadata": {},
   "outputs": [],
   "source": [
    "from implicit.evaluation import precision_at_k, train_test_split,mean_average_precision_at_k"
   ]
  },
  {
   "cell_type": "code",
   "execution_count": 28,
   "metadata": {},
   "outputs": [],
   "source": [
    "train, test = train_test_split(ratings)"
   ]
  },
  {
   "cell_type": "code",
   "execution_count": 40,
   "metadata": {},
   "outputs": [
    {
     "name": "stderr",
     "output_type": "stream",
     "text": [
      "100%|██████████| 50/50 [00:00<00:00, 126.35it/s, correct=73.65%, skipped=14.42%]\n"
     ]
    }
   ],
   "source": [
    "model2 = implicit.bpr.BayesianPersonalizedRanking(iterations = 50)\n",
    "model2.fit(train)"
   ]
  },
  {
   "cell_type": "code",
   "execution_count": 41,
   "metadata": {},
   "outputs": [
    {
     "name": "stderr",
     "output_type": "stream",
     "text": [
      "100%|██████████| 672/672 [00:00<00:00, 2939.75it/s]\n"
     ]
    },
    {
     "data": {
      "text/plain": [
       "0.19128831528001844"
      ]
     },
     "execution_count": 41,
     "metadata": {},
     "output_type": "execute_result"
    }
   ],
   "source": [
    "# explaination of precicion at k: https://medium.com/@m_n_malaeb/recall-and-precision-at-k-for-recommender-systems-618483226c54\n",
    "p = precision_at_k(model2, train.T.tocsr(), test.T.tocsr(), K=10, num_threads=8)\n",
    "p"
   ]
  },
  {
   "cell_type": "code",
   "execution_count": null,
   "metadata": {},
   "outputs": [],
   "source": []
  }
 ],
 "metadata": {
  "kernelspec": {
   "display_name": "Python 3",
   "language": "python",
   "name": "python3"
  },
  "language_info": {
   "codemirror_mode": {
    "name": "ipython",
    "version": 3
   },
   "file_extension": ".py",
   "mimetype": "text/x-python",
   "name": "python",
   "nbconvert_exporter": "python",
   "pygments_lexer": "ipython3",
   "version": "3.6.5"
  }
 },
 "nbformat": 4,
 "nbformat_minor": 2
}
